{
 "cells": [
  {
   "cell_type": "markdown",
   "id": "13234336",
   "metadata": {},
   "source": [
    "# Homework 1\n",
    "\n",
    "## FINM 37500 - 2023\n",
    "\n",
    "### UChicago Financial Mathematics\n",
    "\n",
    "* Mark Hendricks\n",
    "* hendricks@uchicago.edu"
   ]
  },
  {
   "cell_type": "markdown",
   "id": "9fd45132",
   "metadata": {},
   "source": [
    "# Context\n",
    "\n",
    "For use in these problems, consider the data below, discussed in Veronesi's *Fixed Income Securities* Chapters 9, 10.\n",
    "* interest-rate tree\n",
    "* current term structure"
   ]
  },
  {
   "cell_type": "code",
   "execution_count": 1,
   "id": "77c9623a",
   "metadata": {},
   "outputs": [],
   "source": [
    "import numpy as np\n",
    "import pandas as pd\n",
    "from scipy import optimize"
   ]
  },
  {
   "cell_type": "code",
   "execution_count": 2,
   "id": "98b27b7b",
   "metadata": {},
   "outputs": [
    {
     "data": {
      "text/plain": "<pandas.io.formats.style.Styler at 0x121695c90>",
      "text/html": "<style type=\"text/css\">\n</style>\n<table id=\"T_b4ede\">\n  <thead>\n    <tr>\n      <th class=\"index_name level0\" >time $t$</th>\n      <th id=\"T_b4ede_level0_col0\" class=\"col_heading level0 col0\" >0</th>\n      <th id=\"T_b4ede_level0_col1\" class=\"col_heading level0 col1\" >0.5</th>\n    </tr>\n    <tr>\n      <th class=\"index_name level0\" >node</th>\n      <th class=\"blank col0\" >&nbsp;</th>\n      <th class=\"blank col1\" >&nbsp;</th>\n    </tr>\n  </thead>\n  <tbody>\n    <tr>\n      <th id=\"T_b4ede_level0_row0\" class=\"row_heading level0 row0\" >0</th>\n      <td id=\"T_b4ede_row0_col0\" class=\"data row0 col0\" >1.74%</td>\n      <td id=\"T_b4ede_row0_col1\" class=\"data row0 col1\" >3.39%</td>\n    </tr>\n    <tr>\n      <th id=\"T_b4ede_level0_row1\" class=\"row_heading level0 row1\" >1</th>\n      <td id=\"T_b4ede_row1_col0\" class=\"data row1 col0\" ></td>\n      <td id=\"T_b4ede_row1_col1\" class=\"data row1 col1\" >0.95%</td>\n    </tr>\n  </tbody>\n</table>\n"
     },
     "execution_count": 2,
     "metadata": {},
     "output_type": "execute_result"
    }
   ],
   "source": [
    "rate_tree = pd.DataFrame({'0':[.0174,np.nan],'0.5':[.0339,.0095]})\n",
    "rate_tree.columns.name = 'time $t$'\n",
    "rate_tree.index.name = 'node'\n",
    "rate_tree.style.format('{:.2%}',na_rep='')"
   ]
  },
  {
   "cell_type": "markdown",
   "id": "f2ffc190",
   "metadata": {},
   "source": [
    "The \"tree\" is displayed as a pandas dataframe, so it does not list \"up\" and \"down\" for the rows but rather an index of nodes. The meaning should be clear."
   ]
  },
  {
   "cell_type": "code",
   "execution_count": 3,
   "id": "ff1a260f",
   "metadata": {},
   "outputs": [
    {
     "data": {
      "text/plain": "<pandas.io.formats.style.Styler at 0x116c3c590>",
      "text/html": "<style type=\"text/css\">\n</style>\n<table id=\"T_9bc67\">\n  <thead>\n    <tr>\n      <th class=\"blank level0\" >&nbsp;</th>\n      <th id=\"T_9bc67_level0_col0\" class=\"col_heading level0 col0\" >price</th>\n      <th id=\"T_9bc67_level0_col1\" class=\"col_heading level0 col1\" >continuous ytm</th>\n    </tr>\n    <tr>\n      <th class=\"index_name level0\" >maturity</th>\n      <th class=\"blank col0\" >&nbsp;</th>\n      <th class=\"blank col1\" >&nbsp;</th>\n    </tr>\n  </thead>\n  <tbody>\n    <tr>\n      <th id=\"T_9bc67_level0_row0\" class=\"row_heading level0 row0\" >0.5</th>\n      <td id=\"T_9bc67_row0_col0\" class=\"data row0 col0\" >99.1338</td>\n      <td id=\"T_9bc67_row0_col1\" class=\"data row0 col1\" >1.74%</td>\n    </tr>\n    <tr>\n      <th id=\"T_9bc67_level0_row1\" class=\"row_heading level0 row1\" >1.0</th>\n      <td id=\"T_9bc67_row1_col0\" class=\"data row1 col0\" >97.8925</td>\n      <td id=\"T_9bc67_row1_col1\" class=\"data row1 col1\" >2.13%</td>\n    </tr>\n    <tr>\n      <th id=\"T_9bc67_level0_row2\" class=\"row_heading level0 row2\" >1.5</th>\n      <td id=\"T_9bc67_row2_col0\" class=\"data row2 col0\" >96.1462</td>\n      <td id=\"T_9bc67_row2_col1\" class=\"data row2 col1\" >2.62%</td>\n    </tr>\n  </tbody>\n</table>\n"
     },
     "execution_count": 3,
     "metadata": {},
     "output_type": "execute_result"
    }
   ],
   "source": [
    "term_struct = pd.DataFrame({'maturity':[.5,1,1.5],'price':[99.1338,97.8925,96.1462]})\n",
    "term_struct['continuous ytm'] = -np.log(term_struct['price']/100) / term_struct['maturity']\n",
    "term_struct.set_index('maturity',inplace=True)\n",
    "term_struct.style.format({'price':'{:.4f}','continuous ytm':'{:.2%}'}).format_index('{:.1f}')"
   ]
  },
  {
   "cell_type": "markdown",
   "id": "4c7113c7",
   "metadata": {},
   "source": [
    "This is the current term-structure observed at $t=0$."
   ]
  },
  {
   "cell_type": "markdown",
   "id": "a0440315",
   "metadata": {},
   "source": [
    "# 1. Pricing a Swap\n",
    "\n",
    "### 1.1 \n",
    "Calculate the tree of bond prices for the 2-period, $T=1$, bond.\n",
    "\n",
    "### 1.2 \n",
    "What is the risk-neutral probability of an upward movement of interest rates at $t=.5$?\n",
    "\n",
    "## The option contract\n",
    "\n",
    "Consider a single-period swap that pays at time period 1 ($t=0.5$), the expiration payoff (and thus terminal value) is\n",
    "* Payoff = $\\frac{100}{2}(r_1 −c)$\n",
    "* with $c=2\\%$\n",
    "* payments are semiannual\n",
    "\n",
    "Take the viewpoint of a fixed-rate payer, floating rate receiver.\n",
    "\n",
    "### 1.3 \n",
    "What is the replicating trade using the two bonds (period 1 and period 2)?\n",
    "\n",
    "### 1.4 \n",
    "What is the price of the swap?"
   ]
  },
  {
   "cell_type": "code",
   "execution_count": 4,
   "outputs": [
    {
     "name": "stdout",
     "output_type": "stream",
     "text": [
      "1.1\n"
     ]
    },
    {
     "data": {
      "text/plain": "<pandas.io.formats.style.Styler at 0x13612e150>",
      "text/html": "<style type=\"text/css\">\n</style>\n<table id=\"T_d17ab\">\n  <thead>\n    <tr>\n      <th class=\"index_name level0\" >time $t$</th>\n      <th id=\"T_d17ab_level0_col0\" class=\"col_heading level0 col0\" >0</th>\n      <th id=\"T_d17ab_level0_col1\" class=\"col_heading level0 col1\" >0.5</th>\n    </tr>\n    <tr>\n      <th class=\"index_name level0\" >node</th>\n      <th class=\"blank col0\" >&nbsp;</th>\n      <th class=\"blank col1\" >&nbsp;</th>\n    </tr>\n  </thead>\n  <tbody>\n    <tr>\n      <th id=\"T_d17ab_level0_row0\" class=\"row_heading level0 row0\" >0</th>\n      <td id=\"T_d17ab_row0_col0\" class=\"data row0 col0\" >97.8925</td>\n      <td id=\"T_d17ab_row0_col1\" class=\"data row0 col1\" >98.3193</td>\n    </tr>\n    <tr>\n      <th id=\"T_d17ab_level0_row1\" class=\"row_heading level0 row1\" >1</th>\n      <td id=\"T_d17ab_row1_col0\" class=\"data row1 col0\" ></td>\n      <td id=\"T_d17ab_row1_col1\" class=\"data row1 col1\" >99.5261</td>\n    </tr>\n  </tbody>\n</table>\n"
     },
     "execution_count": 4,
     "metadata": {},
     "output_type": "execute_result"
    }
   ],
   "source": [
    "print(1.1)\n",
    "bond_tree = pd.DataFrame({'0':[term_struct.loc[1.0,\"price\"],np.nan],'0.5':[100*np.exp(-0.5*rate_tree.loc[0,'0.5']),100*np.exp(-0.5*rate_tree.loc[1,'0.5'])]})\n",
    "bond_tree.columns.name = 'time $t$'\n",
    "bond_tree.index.name = 'node'\n",
    "bond_tree.style.format('{:.4f}',na_rep='')"
   ],
   "metadata": {
    "collapsed": false
   }
  },
  {
   "cell_type": "code",
   "execution_count": 17,
   "outputs": [
    {
     "name": "stdout",
     "output_type": "stream",
     "text": [
      "1.2\n"
     ]
    },
    {
     "data": {
      "text/plain": "'risk neutral probability of upward rate movement is 0.6449'"
     },
     "execution_count": 17,
     "metadata": {},
     "output_type": "execute_result"
    }
   ],
   "source": [
    "print(1.2)\n",
    "up_pv = bond_tree.loc[0,'0.5'] * np.exp(-0.5 * rate_tree.loc[0,'0'])\n",
    "down_pv = bond_tree.loc[1,'0.5'] * np.exp(-0.5 * rate_tree.loc[0,'0'])\n",
    "p_up = (bond_tree.loc[0,'0']-down_pv)/(up_pv -down_pv)\n",
    "'risk neutral probability of upward rate movement is ' + format(p_up,'.4f')"
   ],
   "metadata": {
    "collapsed": false
   }
  },
  {
   "cell_type": "code",
   "execution_count": 19,
   "outputs": [
    {
     "name": "stdout",
     "output_type": "stream",
     "text": [
      "1.3 & 1.4\n",
      "To replicate a contract of the swap, we need to long  1.0009  bonds with 6m maturity and short  1.0109 bonds with 1y maturity (each bond is $100 face value)\n",
      "The price of the swap must equal the cost of setting up the replicating trade, which is $0.2595\n"
     ]
    }
   ],
   "source": [
    "print('1.3 & 1.4')\n",
    "swap_payoff_up =100/2*( rate_tree.loc[0,'0.5'] - 0.02)\n",
    "swap_payoff_down =100/2*( rate_tree.loc[1,'0.5'] - 0.02)\n",
    "#print(swap_payoff_up, swap_payoff_down)\n",
    "\n",
    "\n",
    "bond_payoff_up = bond_tree.loc[0,'0.5']\n",
    "bond_payoff_down = bond_tree.loc[1,'0.5']\n",
    "#print(bond_payoff_up, bond_payoff_down)\n",
    "\n",
    "beta = (swap_payoff_up-swap_payoff_down)/(bond_payoff_up-bond_payoff_down)\n",
    "pos_1y = beta\n",
    "pos_6m = (swap_payoff_up - beta * bond_tree.loc[0,'0.5'])/100\n",
    "cost_of_replicating_pos = pos_1y * term_struct.loc[1.0,'price']+ pos_6m * term_struct.loc[0.5,'price']\n",
    "#print(beta)\n",
    "\n",
    "print(\"To replicate a contract of the swap, we need to long \", format(pos_6m,\".4f\"), \" bonds with 6m maturity and short \", format(-pos_1y,\".4f\"), \"bonds with 1y maturity (each bond is $100 face value)\" )\n",
    "\n",
    "#print(pos_1y * term_struct.loc[1.0,'price']+ pos_6m * term_struct.loc[0.5,'price'])\n",
    "#print(pos_1y * bond_tree.loc[0,'0.5'] + pos_6m * 100)\n",
    "#print(pos_1y * bond_tree.loc[1,'0.5'] + pos_6m * 100)\n",
    "\n",
    "print(\"The price of the swap must equal the cost of setting up the replicating trade, which is $\" + format(cost_of_replicating_pos,\".4f\"))\n",
    "\n",
    "#(swap_payoff_up * p_up +swap_payoff_down * (1-p_up))*np.exp(-0.5*0.0174)"
   ],
   "metadata": {
    "collapsed": false
   }
  },
  {
   "cell_type": "markdown",
   "id": "c21e15b7",
   "metadata": {},
   "source": [
    "# 2. Using the Swap as the Underlying\n",
    "As in the note, W.1, consider pricing the followign interest-rate option,\n",
    "* Payoff is $100\\max(r_K-r_1,0)$\n",
    "* strike is $r_K$ is 2\\%\n",
    "* expires at period 1, ($t=0.5$) \n",
    "\n",
    "Unlike the note, price it with the swap used as the underlying, not the two-period ($t=1$) bond. You will once again use the period-1 ($t=0.5$) bond as the cash account for the no-arbitrage pricing.\n",
    "\n",
    "So instead of replicating the option with the two treasuries, now you're replicating/pricing it with a one-period bond and two-period swap.\n",
    "\n",
    "### 2.1\n",
    "Display the tree of swap prices.\n",
    "\n",
    "### 2.2\n",
    "What is the risk-neutral probability of an upward movement at $t=.5$ implied by the underlying swap tree? \n",
    "\n",
    "Is this the same as the risk-neutral probability we found when the bond was used as the underlying?\n",
    "\n",
    "### 2.3\n",
    "What is the price of the rate option? Is it the same as we calculated in the note, W.1.?"
   ]
  },
  {
   "cell_type": "code",
   "execution_count": 7,
   "outputs": [
    {
     "name": "stdout",
     "output_type": "stream",
     "text": [
      "2.1\n",
      "time $t$        0    0.5\n",
      "node                    \n",
      "0         0.25949  0.695\n",
      "1             NaN -0.525\n"
     ]
    }
   ],
   "source": [
    "swap_tree = pd.DataFrame({'0':[cost_of_replicating_pos,np.nan],'0.5':[swap_payoff_up,swap_payoff_down]})\n",
    "swap_tree.columns.name = 'time $t$'\n",
    "swap_tree.index.name = 'node'\n",
    "swap_tree.style.format('{:.4f}',na_rep='')\n",
    "print(2.1)\n",
    "print(swap_tree)"
   ],
   "metadata": {
    "collapsed": false
   }
  },
  {
   "cell_type": "code",
   "execution_count": 8,
   "outputs": [
    {
     "name": "stdout",
     "output_type": "stream",
     "text": [
      "2.2\n",
      "risk neutral probability of upward rate movement implied by the swap is 0.64\n",
      "same as the probability from underlying\n"
     ]
    }
   ],
   "source": [
    "p_up_swap = (cost_of_replicating_pos*np.exp(rate_tree.loc[0,'0']*0.5)-swap_payoff_down)/(swap_payoff_up-swap_payoff_down)\n",
    "print(2.2)\n",
    "print('risk neutral probability of upward rate movement implied by the swap is ' + format(p_up,'.2f'))\n",
    "print('same as the probability from underlying')"
   ],
   "metadata": {
    "collapsed": false
   }
  },
  {
   "cell_type": "code",
   "execution_count": 20,
   "outputs": [
    {
     "name": "stdout",
     "output_type": "stream",
     "text": [
      "2.3\n",
      "To replicate a contract of the option, we need to long  0.00598  bonds with 6m maturity and short  0.8607 swaps (each bond is $100 face value)\n",
      "The price of the option must equal the cost of setting up the replicating trade, which is $0.3696, same as calculated in class.\n"
     ]
    }
   ],
   "source": [
    "print('2.3')\n",
    "option_payoff_up =0\n",
    "option_payoff_down =100*(0.02 - rate_tree.loc[1,'0.5'] )\n",
    "#print(option_payoff_up, option_payoff_down)\n",
    "\n",
    "\n",
    "\n",
    "beta_swap = (option_payoff_up-option_payoff_down)/(swap_payoff_up-swap_payoff_down)\n",
    "pos_swap = beta_swap\n",
    "pos_6m = (option_payoff_up - beta_swap * swap_payoff_up)/100\n",
    "cost_of_replicating_option = pos_swap * cost_of_replicating_pos + pos_6m * term_struct.loc[0.5,'price']\n",
    "#print(beta)\n",
    "\n",
    "print(\"To replicate a contract of the option, we need to long \", format(pos_6m,\".5f\"), \" bonds with 6m maturity and short \", format(-pos_swap,\".4f\"), \"swaps (each bond is $100 face value)\" )\n",
    "\n",
    "#print(pos_swap *swap_payoff_up + pos_6m * 100)\n",
    "#print(pos_swap * swap_payoff_down + pos_6m * 100)\n",
    "\n",
    "\n",
    "print(\"The price of the option must equal the cost of setting up the replicating trade, which is $\" + format(cost_of_replicating_option,\".4f\") +\", same as calculated in class.\")\n",
    "\n",
    "#(option_payoff_up * p_up +option_payoff_down * (1-p_up))*np.exp(-0.5*0.0174)"
   ],
   "metadata": {
    "collapsed": false
   }
  },
  {
   "cell_type": "markdown",
   "id": "87504311",
   "metadata": {},
   "source": [
    "# 3. Pricing a Call on a Bond\n",
    "\n",
    "Try using the same tree to price a call on the period-2 bond, (1-year), at period 1 (6-months).\n",
    "* Payoff = $\\max(P_{1|2}-K,0)$\n",
    "* Strike = \\$99.00\n",
    "\n",
    "### 3.1 \n",
    "What is the replicating trade using the two bonds (period 1 and period 2) as above? (That is, we are no longer using the swap as the underlying.)\n",
    "\n",
    "### 3.2 \n",
    "What is the price of the European call option? \n",
    "* expiring at $T=.5$ \n",
    "* written on the bond maturing in 2 periods, ($t=1$)"
   ]
  },
  {
   "cell_type": "code",
   "execution_count": 21,
   "outputs": [
    {
     "name": "stdout",
     "output_type": "stream",
     "text": [
      "3.1 & 3.2\n",
      "To replicate a contract of the bond option, we need to short  0.4286  bonds with 6m maturity and long  0.4360 bonds with 1y maturity (each bond is $100 face value)\n",
      "The price of the bond option must equal the cost of setting up the replicating trade, which is $0.1852\n"
     ]
    }
   ],
   "source": [
    "print('3.1 & 3.2')\n",
    "bond_option_payoff_up =max(bond_payoff_up-99,0)\n",
    "bond_option_payoff_down =max(bond_payoff_down-99,0)\n",
    "#print(bond_option_payoff_up, bond_option_payoff_down)\n",
    "\n",
    "\n",
    "\n",
    "beta = (bond_option_payoff_up-bond_option_payoff_down)/(bond_payoff_up-bond_payoff_down)\n",
    "pos_1y = beta\n",
    "pos_6m = (bond_option_payoff_up - beta * bond_tree.loc[0,'0.5'])/100\n",
    "cost_of_replicating_bond_option = pos_1y * term_struct.loc[1.0,'price']+ pos_6m * term_struct.loc[0.5,'price']\n",
    "#print(beta)\n",
    "\n",
    "print(\"To replicate a contract of the bond option, we need to short \", format(-pos_6m,\".4f\"), \" bonds with 6m maturity and long \", format(pos_1y,\".4f\"), \"bonds with 1y maturity (each bond is $100 face value)\" )\n",
    "\n",
    "#print(pos_1y * term_struct.loc[1.0,'price']+ pos_6m * term_struct.loc[0.5,'price'])\n",
    "#print(pos_1y * bond_tree.loc[0,'0.5'] + pos_6m * 100)\n",
    "#print(pos_1y * bond_tree.loc[1,'0.5'] + pos_6m * 100)\n",
    "\n",
    "print(\"The price of the bond option must equal the cost of setting up the replicating trade, which is $\" + format(cost_of_replicating_bond_option,\".4f\"))\n",
    "\n",
    "#(bond_option_payoff_up * p_up +bond_option_payoff_down * (1-p_up))*np.exp(-0.5*0.0174)"
   ],
   "metadata": {
    "collapsed": false
   }
  },
  {
   "cell_type": "markdown",
   "id": "6d76cdf8",
   "metadata": {},
   "source": [
    "# 4 Two-Period Tree\n",
    "\n",
    "Consider an expanded, **2 period** tree. (Two periods of uncertainty, so with the starting point, three periods total.)"
   ]
  },
  {
   "cell_type": "code",
   "execution_count": 11,
   "id": "69c01950",
   "metadata": {},
   "outputs": [
    {
     "data": {
      "text/plain": "<pandas.io.formats.style.Styler at 0x13611f5d0>",
      "text/html": "<style type=\"text/css\">\n</style>\n<table id=\"T_90dd8\">\n  <thead>\n    <tr>\n      <th class=\"index_name level0\" >time $t$</th>\n      <th id=\"T_90dd8_level0_col0\" class=\"col_heading level0 col0\" >0</th>\n      <th id=\"T_90dd8_level0_col1\" class=\"col_heading level0 col1\" >0.5</th>\n      <th id=\"T_90dd8_level0_col2\" class=\"col_heading level0 col2\" >1</th>\n    </tr>\n    <tr>\n      <th class=\"index_name level0\" >node</th>\n      <th class=\"blank col0\" >&nbsp;</th>\n      <th class=\"blank col1\" >&nbsp;</th>\n      <th class=\"blank col2\" >&nbsp;</th>\n    </tr>\n  </thead>\n  <tbody>\n    <tr>\n      <th id=\"T_90dd8_level0_row0\" class=\"row_heading level0 row0\" >0</th>\n      <td id=\"T_90dd8_row0_col0\" class=\"data row0 col0\" >1.74%</td>\n      <td id=\"T_90dd8_row0_col1\" class=\"data row0 col1\" >3.39%</td>\n      <td id=\"T_90dd8_row0_col2\" class=\"data row0 col2\" >5.00%</td>\n    </tr>\n    <tr>\n      <th id=\"T_90dd8_level0_row1\" class=\"row_heading level0 row1\" >1</th>\n      <td id=\"T_90dd8_row1_col0\" class=\"data row1 col0\" ></td>\n      <td id=\"T_90dd8_row1_col1\" class=\"data row1 col1\" >0.95%</td>\n      <td id=\"T_90dd8_row1_col2\" class=\"data row1 col2\" >2.56%</td>\n    </tr>\n    <tr>\n      <th id=\"T_90dd8_level0_row2\" class=\"row_heading level0 row2\" >2</th>\n      <td id=\"T_90dd8_row2_col0\" class=\"data row2 col0\" ></td>\n      <td id=\"T_90dd8_row2_col1\" class=\"data row2 col1\" ></td>\n      <td id=\"T_90dd8_row2_col2\" class=\"data row2 col2\" >0.11%</td>\n    </tr>\n  </tbody>\n</table>\n"
     },
     "execution_count": 11,
     "metadata": {},
     "output_type": "execute_result"
    }
   ],
   "source": [
    "new_col = pd.Series([.05,.0256,.0011],name='1')\n",
    "rate_tree_multi = pd.concat([rate_tree,new_col],ignore_index=True,axis=1)\n",
    "rate_tree_multi.columns = pd.Series(['0','0.5','1'],name='time $t$')\n",
    "rate_tree_multi.index.name = 'node'\n",
    "rate_tree_multi.style.format('{:.2%}',na_rep='')"
   ]
  },
  {
   "cell_type": "markdown",
   "id": "5a09b0d9",
   "metadata": {},
   "source": [
    "### 4.1\n",
    "\n",
    "Calculate and show the tree of prices for the 3-period bond, $T=1.5$.\n",
    "\n",
    "### 4.2\n",
    "Report the risk-neutral probability of an up movement at $t=1$.\n",
    "\n",
    "(The risk-neutral probability of an up movement at $t=0.5$ continues to be as you calculated in 2.3.\n",
    "\n",
    "### 4.3\n",
    "Calculate the price of the European **call** option?\n",
    "* expiring at $T=1$ \n",
    "* written on the bond maturing in 3 periods, ($t=1.5$)\n",
    "\n",
    "### 4.4\n",
    "Consider a finer time grid. Let $dt$ in the tree now be 1/30 instead of 0.5.\n",
    "\n",
    "Using this smaller time step, compute the $t=0$ price of the following option:\n",
    "* option expires at $t=1$\n",
    "* written on bond maturing at $t=1.5"
   ]
  },
  {
   "cell_type": "code",
   "execution_count": 12,
   "outputs": [],
   "source": [
    "def start_price(end_price, continuous_rate, period):\n",
    "    return end_price * np.exp(-period * continuous_rate)"
   ],
   "metadata": {
    "collapsed": false
   }
  },
  {
   "cell_type": "code",
   "execution_count": 13,
   "outputs": [
    {
     "name": "stdout",
     "output_type": "stream",
     "text": [
      "4.1 & 4.2\n",
      "         0        0.5          1\n",
      "0  96.1462  96.142586  97.530991\n",
      "1      NaN  98.518379  98.728157\n",
      "2      NaN        NaN  99.945015\n",
      "Probability of upward movement at t = 1 is  0.79\n"
     ]
    }
   ],
   "source": [
    "price_t1 = start_price(100,rate_tree_multi[\"1\"],0.5)\n",
    "def pv0_bond18m(p_up_t1):\n",
    "    return price_t1[0] * np.exp(-0.5* (0.0339+0.0174)) * p_up_t1 * p_up + price_t1[1] * np.exp(-0.5* (0.0339+0.0174)) * (1-p_up_t1)*p_up + price_t1[1] * np.exp(-0.5* (0.0095+0.0174)) * (p_up_t1)*(1-p_up) +  price_t1[2] * np.exp(-0.5* (0.0095+0.0174)) * (1-p_up_t1)*(1-p_up)\n",
    "\n",
    "def target_func(p_up_t1,target):\n",
    "    return pv0_bond18m(p_up_t1) - target\n",
    "\n",
    "p_up_t1_root = optimize.fsolve(target_func,0,args=(term_struct.loc[1.5,'price']))[0]\n",
    "\n",
    "bond_18m_u = price_t1[0] * np.exp(-0.5* (0.0339)) * p_up_t1_root  + price_t1[1] * np.exp(-0.5* (0.0339)) * (1-p_up_t1_root)\n",
    "bond_18m_d = price_t1[1] * np.exp(-0.5* (0.0095)) * p_up_t1_root  + price_t1[2] * np.exp(-0.5* (0.0095)) * (1-p_up_t1_root)\n",
    "\n",
    "price_t6m = [bond_18m_u, bond_18m_d,np.nan]\n",
    "price_t0 = [term_struct.loc[1.5,'price'],np.nan,np.nan]\n",
    "\n",
    "price_tree = pd.DataFrame(price_t0)\n",
    "price_tree['0.5'] = price_t6m\n",
    "price_tree['1'] = price_t1\n",
    "\n",
    "print('4.1 & 4.2')\n",
    "print(price_tree)\n",
    "\n",
    "print(\"Probability of upward movement at t = 1 is \", format(p_up_t1_root, '.2f'))"
   ],
   "metadata": {
    "collapsed": false
   }
  },
  {
   "cell_type": "code",
   "execution_count": 14,
   "outputs": [
    {
     "name": "stdout",
     "output_type": "stream",
     "text": [
      "4.3\n",
      "The option only has value if the bond price is above $99, so only in the down-down case. Risk neutral pricing gives a price of $ 0.0706\n"
     ]
    }
   ],
   "source": [
    "print(4.3)\n",
    "\n",
    "price =( price_t1[2] - 99) * (1- p_up) * (1-p_up_t1_root) * np.exp(-0.5*(0.0174+0.0095))\n",
    "\n",
    "print('The option only has value if the bond price is above $99, so only in the down-down case. Risk neutral pricing gives a price of $', format(price, '.4f'))"
   ],
   "metadata": {
    "collapsed": false
   }
  }
 ],
 "metadata": {
  "hide_input": true,
  "kernelspec": {
   "display_name": "Python 3 (ipykernel)",
   "language": "python",
   "name": "python3"
  },
  "language_info": {
   "codemirror_mode": {
    "name": "ipython",
    "version": 3
   },
   "file_extension": ".py",
   "mimetype": "text/x-python",
   "name": "python",
   "nbconvert_exporter": "python",
   "pygments_lexer": "ipython3",
   "version": "3.9.6"
  }
 },
 "nbformat": 4,
 "nbformat_minor": 5
}
