{
 "cells": [
  {
   "cell_type": "markdown",
   "id": "0cc2bd13",
   "metadata": {},
   "source": [
    "# Homework 2\n",
    "\n",
    "## FINM 37500 - 2023\n",
    "\n",
    "### UChicago Financial Mathematics\n",
    "\n",
    "* Mark Hendricks\n",
    "* hendricks@uchicago.edu"
   ]
  },
  {
   "cell_type": "markdown",
   "id": "2c5f237d",
   "metadata": {},
   "source": [
    "# 1. Stripping Caps"
   ]
  },
  {
   "cell_type": "markdown",
   "id": "776ba80e",
   "metadata": {},
   "source": [
    "The file `data/cap_curves_2023-03-31.xlsx` has market data on the following curves:\n",
    "* swap rates (SOFR)\n",
    "* discount factors\n",
    "* forward rates \n",
    "* flat volatilites\n",
    "\n",
    "A few details\n",
    "* the swap and forward rates are quarterly compounded.\n",
    "* the flat volatilites are (Black) quotes on caps containing caplets ranging from expiration of $\\tau=.5$ to $\\tau=T$.\n",
    "* the details of the data prep can be found in `build_data/Process Cap Quotes`."
   ]
  },
  {
   "cell_type": "markdown",
   "id": "0095e4c0",
   "metadata": {},
   "source": [
    "## Context\n",
    "\n",
    "Recall that \n",
    "* a cap is made of caplets with $.5\\le \\tau \\le T$\n",
    "* the flat volatility at $T$ is input for every caplet corresponding to the cap of $T$.\n",
    "* use Black's formula for this calculation.\n",
    "* in Black's formula, use $T-.25$ as the rate for the caplet is determined one period before it is paid.\n",
    "\n",
    "As for the cap parameters,\n",
    "* the cap's strike is the swap rate with the same tenor. So the $T=2$ cap is struck at the swap rate of $\\tau=2$.\n",
    "* the notional of the cap is 100.\n",
    "* the payoff of each caplet is\n",
    "\n",
    "$$\\frac{100}{n}\\max(r-K,0)$$\n",
    "\n",
    "where $n$ is the frequency; here $n=4$.\n",
    "\n",
    "Thus, the corresponding value in Black's fomula for a caplet is\n",
    "$$P^{\\text{cap}}_{T} = \\frac{100}{n} \\sum_{\\tau=.5}^T B_{\\text{call}}(\\overline{\\sigma}_T, \\tau-.25, K=s_T, f_{\\tau}, Z_{\\tau})$$\n",
    "Note here that for every caplet in cap $T$, we plug in the same \n",
    "* flat vol with tenor $T$.\n",
    "* strike which is the swap rate of maturity $T$.\n",
    "\n",
    "The notation above is using subscripts for tenor / maturity rather than time period. That is, $Z_{\\tau}$ denotes $Z(t, t+\\tau)$ which is today's discount factor for maturity $\\tau$. Similarly for the swap rate of tenor $T$, denoted above $s_T$ and forward rate $f(t,t+\\tau-.25, t+\\tau)$ denoted simply $f_{\\tau}$."
   ]
  },
  {
   "cell_type": "markdown",
   "id": "dafd346d",
   "metadata": {},
   "source": [
    "### Black's Formula\n",
    "Recall Black's formula:\n",
    "\n",
    "$$\\begin{align}\n",
    "B_{\\text{call}}(\\sigma, T, K, f, Z) = &\\; Z\\left[f\\mathcal{N}\\left(d_1\\right) - K\\mathcal{N}(d_2)\\right] \\\\\n",
    "d_1 =& \\frac{\\ln\\left(\\frac{f}{K}\\right) + \\frac{\\sigma^2}{2}T}{\\sigma\\sqrt{T}} \\\\\n",
    "d_2 =& d_1 -\\sigma\\sqrt{T}\n",
    "\\end{align}\n",
    "$$"
   ]
  },
  {
   "cell_type": "code",
   "execution_count": 1,
   "outputs": [],
   "source": [
    "import numpy as np\n",
    "import pandas as pd\n",
    "\n",
    "import sys\n",
    "sys.path.insert(0, '../cmds')\n",
    "from ficcvol2 import *\n",
    "from binomial2 import *\n",
    "from ratecurves import *\n",
    "import datetime\n",
    "import warnings\n",
    "\n",
    "import matplotlib.pyplot as plt\n",
    "import seaborn as sns\n",
    "%matplotlib inline\n",
    "plt.rcParams['figure.figsize'] = (12,6)\n",
    "plt.rcParams['font.size'] = 15\n",
    "plt.rcParams['legend.fontsize'] = 13\n",
    "\n",
    "from matplotlib.ticker import (MultipleLocator,\n",
    "                               FormatStrFormatter,\n",
    "                               AutoMinorLocator)"
   ],
   "metadata": {
    "collapsed": false
   }
  },
  {
   "cell_type": "code",
   "execution_count": 3,
   "outputs": [],
   "source": [
    "DATE = '2023-03-31'\n",
    "curves = pd.read_excel(\"/Users/zhenyuwang/Library/Mobile Documents/com~apple~CloudDocs/U Chicago/FI Derivatives/cap_curves_2023-03-31.xlsx\").set_index('tenor')"
   ],
   "metadata": {
    "collapsed": false
   }
  },
  {
   "cell_type": "code",
   "execution_count": 4,
   "outputs": [],
   "source": [
    "capcurves = flat_to_forward_vol(curves)"
   ],
   "metadata": {
    "collapsed": false
   }
  },
  {
   "cell_type": "code",
   "execution_count": null,
   "outputs": [],
   "source": [
    "\n",
    "#capcurves[['cap prices']].plot()\n",
    "#capcurves[['flat vols','fwd vols']].plot();\n"
   ],
   "metadata": {
    "collapsed": false
   }
  },
  {
   "cell_type": "markdown",
   "id": "c29b7b66",
   "metadata": {},
   "source": [
    "## 1.1 Cap Prices\n",
    "\n",
    "For each cap maturity, $.5\\le T \\le 10$, use the flat volatility to get the price of the cap.\n",
    "\n",
    "Report the cap prices across expirations, $.5\\le T \\le 10$.\n",
    "\n",
    "Plot the cap prices across expirations."
   ]
  },
  {
   "cell_type": "markdown",
   "id": "d3220ae1",
   "metadata": {},
   "source": [
    "## 1.2 Caplet Prices and Forward Volatilities\n",
    "\n",
    "Using the cap prices, strip out the\n",
    "* caplet prices\n",
    "* forward volatility at $\\tau$ which properly prices caplet $\\tau$ using Black's formula.\n",
    "\n",
    "List and plot the forward volatility versus the flat volatiltiy."
   ]
  },
  {
   "cell_type": "markdown",
   "id": "4502c224",
   "metadata": {},
   "source": [
    "***"
   ]
  },
  {
   "cell_type": "markdown",
   "id": "9985751c",
   "metadata": {},
   "source": [
    "# 2. Pricing a Callable Bond with BDT"
   ]
  },
  {
   "cell_type": "markdown",
   "id": "af78123d",
   "metadata": {},
   "source": [
    "## 2.1 Calibrate a BDT model \n",
    "\n",
    "Use data from the file `data/cap_curves_2023-03-31.xlsx` to calibrate the model.\n",
    "* Use the forward volatilities calculated in 1.2 to calibrate $\\sigma$ at each step. \n",
    "    * If you could not solve 1.2, then use $\\sigma=.35$ at every step.\n",
    "    * You do not have a forward volatility at $\\tau=.25$ given there is no caplet there. For purposes of the BDT model, assume $\\sigma_{.25}$ is equal to the forward volatility at the first estimated period, $t=0.50$. That is, use the first estimated forward vol (corresponding to $\\tau=.50$ for both $t=.25$ and $t=.50$ in the BDT tree.\n",
    "    \n",
    "* Given these $\\sigma$ parameters, calibrate the series of $\\theta$ to fit the zero-coupon bond prices given by `discounts` (multiplied by 100).\n",
    "\n",
    "Display the series of $\\theta$ parameters.\n",
    "\n",
    "Display the tree of rates from $0\\le t \\le 10$."
   ]
  },
  {
   "cell_type": "code",
   "execution_count": 5,
   "outputs": [
    {
     "ename": "KeyError",
     "evalue": "-1",
     "output_type": "error",
     "traceback": [
      "\u001B[0;31m---------------------------------------------------------------------------\u001B[0m",
      "\u001B[0;31mKeyError\u001B[0m                                  Traceback (most recent call last)",
      "File \u001B[0;32m~/Library/Mobile Documents/com~apple~CloudDocs/U Chicago/FINM32500/Code/venv/37500/lib/python3.11/site-packages/pandas/core/indexes/base.py:3652\u001B[0m, in \u001B[0;36mIndex.get_loc\u001B[0;34m(self, key)\u001B[0m\n\u001B[1;32m   3651\u001B[0m \u001B[38;5;28;01mtry\u001B[39;00m:\n\u001B[0;32m-> 3652\u001B[0m     \u001B[38;5;28;01mreturn\u001B[39;00m \u001B[38;5;28;43mself\u001B[39;49m\u001B[38;5;241;43m.\u001B[39;49m\u001B[43m_engine\u001B[49m\u001B[38;5;241;43m.\u001B[39;49m\u001B[43mget_loc\u001B[49m\u001B[43m(\u001B[49m\u001B[43mcasted_key\u001B[49m\u001B[43m)\u001B[49m\n\u001B[1;32m   3653\u001B[0m \u001B[38;5;28;01mexcept\u001B[39;00m \u001B[38;5;167;01mKeyError\u001B[39;00m \u001B[38;5;28;01mas\u001B[39;00m err:\n",
      "File \u001B[0;32m~/Library/Mobile Documents/com~apple~CloudDocs/U Chicago/FINM32500/Code/venv/37500/lib/python3.11/site-packages/pandas/_libs/index.pyx:147\u001B[0m, in \u001B[0;36mpandas._libs.index.IndexEngine.get_loc\u001B[0;34m()\u001B[0m\n",
      "File \u001B[0;32m~/Library/Mobile Documents/com~apple~CloudDocs/U Chicago/FINM32500/Code/venv/37500/lib/python3.11/site-packages/pandas/_libs/index.pyx:176\u001B[0m, in \u001B[0;36mpandas._libs.index.IndexEngine.get_loc\u001B[0;34m()\u001B[0m\n",
      "File \u001B[0;32mpandas/_libs/hashtable_class_helper.pxi:1698\u001B[0m, in \u001B[0;36mpandas._libs.hashtable.Float64HashTable.get_item\u001B[0;34m()\u001B[0m\n",
      "File \u001B[0;32mpandas/_libs/hashtable_class_helper.pxi:1722\u001B[0m, in \u001B[0;36mpandas._libs.hashtable.Float64HashTable.get_item\u001B[0;34m()\u001B[0m\n",
      "\u001B[0;31mKeyError\u001B[0m: -1.0",
      "\nThe above exception was the direct cause of the following exception:\n",
      "\u001B[0;31mKeyError\u001B[0m                                  Traceback (most recent call last)",
      "Cell \u001B[0;32mIn[5], line 6\u001B[0m\n\u001B[1;32m      2\u001B[0m sigmas \u001B[38;5;241m=\u001B[39m capcurves[\u001B[38;5;124m'\u001B[39m\u001B[38;5;124mfwd vols\u001B[39m\u001B[38;5;124m'\u001B[39m]\n\u001B[1;32m      3\u001B[0m sigmas\u001B[38;5;241m.\u001B[39miloc[\u001B[38;5;241m0\u001B[39m] \u001B[38;5;241m=\u001B[39m sigmas\u001B[38;5;241m.\u001B[39miloc[\u001B[38;5;241m1\u001B[39m]\n\u001B[0;32m----> 6\u001B[0m \u001B[43mestimate_theta\u001B[49m\u001B[43m(\u001B[49m\u001B[43msigmas\u001B[49m\u001B[43m,\u001B[49m\u001B[43mquotes\u001B[49m\u001B[43m)\u001B[49m\n\u001B[1;32m      7\u001B[0m \u001B[38;5;66;03m#binomial.format_bintree(theta.to_frame().T, style='{:.2%}')\u001B[39;00m\n",
      "File \u001B[0;32m~/Library/Mobile Documents/com~apple~CloudDocs/U Chicago/FI Derivatives/binomial2.py:183\u001B[0m, in \u001B[0;36mestimate_theta\u001B[0;34m(sigmas, quotes_zeros, dt, T)\u001B[0m\n\u001B[1;32m    180\u001B[0m         subtree \u001B[38;5;241m=\u001B[39m ratetree\u001B[38;5;241m.\u001B[39miloc[:tsteps\u001B[38;5;241m+\u001B[39m\u001B[38;5;241m1\u001B[39m,:tsteps\u001B[38;5;241m+\u001B[39m\u001B[38;5;241m1\u001B[39m]\n\u001B[1;32m    181\u001B[0m         wrapper \u001B[38;5;241m=\u001B[39m \u001B[38;5;28;01mlambda\u001B[39;00m theta: incremental_BDT_pricing(subtree, theta, sigmas\u001B[38;5;241m.\u001B[39miloc[tsteps])\u001B[38;5;241m.\u001B[39mloc[\u001B[38;5;241m0\u001B[39m,\u001B[38;5;241m0\u001B[39m] \u001B[38;5;241m-\u001B[39m quotes_zeros\u001B[38;5;241m.\u001B[39miloc[tsteps]\n\u001B[0;32m--> 183\u001B[0m         theta\u001B[38;5;241m.\u001B[39miloc[tsteps] \u001B[38;5;241m=\u001B[39m \u001B[43mfsolve\u001B[49m\u001B[43m(\u001B[49m\u001B[43mwrapper\u001B[49m\u001B[43m,\u001B[49m\u001B[38;5;241;43m.5\u001B[39;49m\u001B[43m)\u001B[49m[\u001B[38;5;241m0\u001B[39m]\n\u001B[1;32m    184\u001B[0m         ratetree\u001B[38;5;241m.\u001B[39miloc[:,tsteps] \u001B[38;5;241m=\u001B[39m incrementBDTtree(subtree, theta\u001B[38;5;241m.\u001B[39miloc[tsteps], sigmas\u001B[38;5;241m.\u001B[39miloc[tsteps])\u001B[38;5;241m.\u001B[39miloc[:,tsteps]\n\u001B[1;32m    186\u001B[0m \u001B[38;5;28;01mreturn\u001B[39;00m theta, ratetree\n",
      "File \u001B[0;32m~/Library/Mobile Documents/com~apple~CloudDocs/U Chicago/FINM32500/Code/venv/37500/lib/python3.11/site-packages/scipy/optimize/_minpack_py.py:163\u001B[0m, in \u001B[0;36mfsolve\u001B[0;34m(func, x0, args, fprime, full_output, col_deriv, xtol, maxfev, band, epsfcn, factor, diag)\u001B[0m\n\u001B[1;32m     51\u001B[0m \u001B[38;5;250m\u001B[39m\u001B[38;5;124;03m\"\"\"\u001B[39;00m\n\u001B[1;32m     52\u001B[0m \u001B[38;5;124;03mFind the roots of a function.\u001B[39;00m\n\u001B[1;32m     53\u001B[0m \n\u001B[0;32m   (...)\u001B[0m\n\u001B[1;32m    153\u001B[0m \n\u001B[1;32m    154\u001B[0m \u001B[38;5;124;03m\"\"\"\u001B[39;00m\n\u001B[1;32m    155\u001B[0m options \u001B[38;5;241m=\u001B[39m {\u001B[38;5;124m'\u001B[39m\u001B[38;5;124mcol_deriv\u001B[39m\u001B[38;5;124m'\u001B[39m: col_deriv,\n\u001B[1;32m    156\u001B[0m            \u001B[38;5;124m'\u001B[39m\u001B[38;5;124mxtol\u001B[39m\u001B[38;5;124m'\u001B[39m: xtol,\n\u001B[1;32m    157\u001B[0m            \u001B[38;5;124m'\u001B[39m\u001B[38;5;124mmaxfev\u001B[39m\u001B[38;5;124m'\u001B[39m: maxfev,\n\u001B[0;32m   (...)\u001B[0m\n\u001B[1;32m    160\u001B[0m            \u001B[38;5;124m'\u001B[39m\u001B[38;5;124mfactor\u001B[39m\u001B[38;5;124m'\u001B[39m: factor,\n\u001B[1;32m    161\u001B[0m            \u001B[38;5;124m'\u001B[39m\u001B[38;5;124mdiag\u001B[39m\u001B[38;5;124m'\u001B[39m: diag}\n\u001B[0;32m--> 163\u001B[0m res \u001B[38;5;241m=\u001B[39m \u001B[43m_root_hybr\u001B[49m\u001B[43m(\u001B[49m\u001B[43mfunc\u001B[49m\u001B[43m,\u001B[49m\u001B[43m \u001B[49m\u001B[43mx0\u001B[49m\u001B[43m,\u001B[49m\u001B[43m \u001B[49m\u001B[43margs\u001B[49m\u001B[43m,\u001B[49m\u001B[43m \u001B[49m\u001B[43mjac\u001B[49m\u001B[38;5;241;43m=\u001B[39;49m\u001B[43mfprime\u001B[49m\u001B[43m,\u001B[49m\u001B[43m \u001B[49m\u001B[38;5;241;43m*\u001B[39;49m\u001B[38;5;241;43m*\u001B[39;49m\u001B[43moptions\u001B[49m\u001B[43m)\u001B[49m\n\u001B[1;32m    164\u001B[0m \u001B[38;5;28;01mif\u001B[39;00m full_output:\n\u001B[1;32m    165\u001B[0m     x \u001B[38;5;241m=\u001B[39m res[\u001B[38;5;124m'\u001B[39m\u001B[38;5;124mx\u001B[39m\u001B[38;5;124m'\u001B[39m]\n",
      "File \u001B[0;32m~/Library/Mobile Documents/com~apple~CloudDocs/U Chicago/FINM32500/Code/venv/37500/lib/python3.11/site-packages/scipy/optimize/_minpack_py.py:229\u001B[0m, in \u001B[0;36m_root_hybr\u001B[0;34m(func, x0, args, jac, col_deriv, xtol, maxfev, band, eps, factor, diag, **unknown_options)\u001B[0m\n\u001B[1;32m    227\u001B[0m \u001B[38;5;28;01mif\u001B[39;00m \u001B[38;5;129;01mnot\u001B[39;00m \u001B[38;5;28misinstance\u001B[39m(args, \u001B[38;5;28mtuple\u001B[39m):\n\u001B[1;32m    228\u001B[0m     args \u001B[38;5;241m=\u001B[39m (args,)\n\u001B[0;32m--> 229\u001B[0m shape, dtype \u001B[38;5;241m=\u001B[39m \u001B[43m_check_func\u001B[49m\u001B[43m(\u001B[49m\u001B[38;5;124;43m'\u001B[39;49m\u001B[38;5;124;43mfsolve\u001B[39;49m\u001B[38;5;124;43m'\u001B[39;49m\u001B[43m,\u001B[49m\u001B[43m \u001B[49m\u001B[38;5;124;43m'\u001B[39;49m\u001B[38;5;124;43mfunc\u001B[39;49m\u001B[38;5;124;43m'\u001B[39;49m\u001B[43m,\u001B[49m\u001B[43m \u001B[49m\u001B[43mfunc\u001B[49m\u001B[43m,\u001B[49m\u001B[43m \u001B[49m\u001B[43mx0\u001B[49m\u001B[43m,\u001B[49m\u001B[43m \u001B[49m\u001B[43margs\u001B[49m\u001B[43m,\u001B[49m\u001B[43m \u001B[49m\u001B[43mn\u001B[49m\u001B[43m,\u001B[49m\u001B[43m \u001B[49m\u001B[43m(\u001B[49m\u001B[43mn\u001B[49m\u001B[43m,\u001B[49m\u001B[43m)\u001B[49m\u001B[43m)\u001B[49m\n\u001B[1;32m    230\u001B[0m \u001B[38;5;28;01mif\u001B[39;00m epsfcn \u001B[38;5;129;01mis\u001B[39;00m \u001B[38;5;28;01mNone\u001B[39;00m:\n\u001B[1;32m    231\u001B[0m     epsfcn \u001B[38;5;241m=\u001B[39m finfo(dtype)\u001B[38;5;241m.\u001B[39meps\n",
      "File \u001B[0;32m~/Library/Mobile Documents/com~apple~CloudDocs/U Chicago/FINM32500/Code/venv/37500/lib/python3.11/site-packages/scipy/optimize/_minpack_py.py:26\u001B[0m, in \u001B[0;36m_check_func\u001B[0;34m(checker, argname, thefunc, x0, args, numinputs, output_shape)\u001B[0m\n\u001B[1;32m     24\u001B[0m \u001B[38;5;28;01mdef\u001B[39;00m \u001B[38;5;21m_check_func\u001B[39m(checker, argname, thefunc, x0, args, numinputs,\n\u001B[1;32m     25\u001B[0m                 output_shape\u001B[38;5;241m=\u001B[39m\u001B[38;5;28;01mNone\u001B[39;00m):\n\u001B[0;32m---> 26\u001B[0m     res \u001B[38;5;241m=\u001B[39m atleast_1d(\u001B[43mthefunc\u001B[49m\u001B[43m(\u001B[49m\u001B[38;5;241;43m*\u001B[39;49m\u001B[43m(\u001B[49m\u001B[43m(\u001B[49m\u001B[43mx0\u001B[49m\u001B[43m[\u001B[49m\u001B[43m:\u001B[49m\u001B[43mnuminputs\u001B[49m\u001B[43m]\u001B[49m\u001B[43m,\u001B[49m\u001B[43m)\u001B[49m\u001B[43m \u001B[49m\u001B[38;5;241;43m+\u001B[39;49m\u001B[43m \u001B[49m\u001B[43margs\u001B[49m\u001B[43m)\u001B[49m\u001B[43m)\u001B[49m)\n\u001B[1;32m     27\u001B[0m     \u001B[38;5;28;01mif\u001B[39;00m (output_shape \u001B[38;5;129;01mis\u001B[39;00m \u001B[38;5;129;01mnot\u001B[39;00m \u001B[38;5;28;01mNone\u001B[39;00m) \u001B[38;5;129;01mand\u001B[39;00m (shape(res) \u001B[38;5;241m!=\u001B[39m output_shape):\n\u001B[1;32m     28\u001B[0m         \u001B[38;5;28;01mif\u001B[39;00m (output_shape[\u001B[38;5;241m0\u001B[39m] \u001B[38;5;241m!=\u001B[39m \u001B[38;5;241m1\u001B[39m):\n",
      "File \u001B[0;32m~/Library/Mobile Documents/com~apple~CloudDocs/U Chicago/FI Derivatives/binomial2.py:181\u001B[0m, in \u001B[0;36mestimate_theta.<locals>.<lambda>\u001B[0;34m(theta)\u001B[0m\n\u001B[1;32m    179\u001B[0m \u001B[38;5;28;01melse\u001B[39;00m:\n\u001B[1;32m    180\u001B[0m     subtree \u001B[38;5;241m=\u001B[39m ratetree\u001B[38;5;241m.\u001B[39miloc[:tsteps\u001B[38;5;241m+\u001B[39m\u001B[38;5;241m1\u001B[39m,:tsteps\u001B[38;5;241m+\u001B[39m\u001B[38;5;241m1\u001B[39m]\n\u001B[0;32m--> 181\u001B[0m     wrapper \u001B[38;5;241m=\u001B[39m \u001B[38;5;28;01mlambda\u001B[39;00m theta: \u001B[43mincremental_BDT_pricing\u001B[49m\u001B[43m(\u001B[49m\u001B[43msubtree\u001B[49m\u001B[43m,\u001B[49m\u001B[43m \u001B[49m\u001B[43mtheta\u001B[49m\u001B[43m,\u001B[49m\u001B[43m \u001B[49m\u001B[43msigmas\u001B[49m\u001B[38;5;241;43m.\u001B[39;49m\u001B[43miloc\u001B[49m\u001B[43m[\u001B[49m\u001B[43mtsteps\u001B[49m\u001B[43m]\u001B[49m\u001B[43m)\u001B[49m\u001B[38;5;241m.\u001B[39mloc[\u001B[38;5;241m0\u001B[39m,\u001B[38;5;241m0\u001B[39m] \u001B[38;5;241m-\u001B[39m quotes_zeros\u001B[38;5;241m.\u001B[39miloc[tsteps]\n\u001B[1;32m    183\u001B[0m     theta\u001B[38;5;241m.\u001B[39miloc[tsteps] \u001B[38;5;241m=\u001B[39m fsolve(wrapper,\u001B[38;5;241m.5\u001B[39m)[\u001B[38;5;241m0\u001B[39m]\n\u001B[1;32m    184\u001B[0m     ratetree\u001B[38;5;241m.\u001B[39miloc[:,tsteps] \u001B[38;5;241m=\u001B[39m incrementBDTtree(subtree, theta\u001B[38;5;241m.\u001B[39miloc[tsteps], sigmas\u001B[38;5;241m.\u001B[39miloc[tsteps])\u001B[38;5;241m.\u001B[39miloc[:,tsteps]\n",
      "File \u001B[0;32m~/Library/Mobile Documents/com~apple~CloudDocs/U Chicago/FI Derivatives/binomial2.py:157\u001B[0m, in \u001B[0;36mincremental_BDT_pricing\u001B[0;34m(tree, theta, sigma_new, dt)\u001B[0m\n\u001B[1;32m    154\u001B[0m     dt \u001B[38;5;241m=\u001B[39m tree\u001B[38;5;241m.\u001B[39mcolumns[\u001B[38;5;241m1\u001B[39m] \u001B[38;5;241m-\u001B[39m tree\u001B[38;5;241m.\u001B[39mcolumns[\u001B[38;5;241m0\u001B[39m]\n\u001B[1;32m    156\u001B[0m payoff \u001B[38;5;241m=\u001B[39m \u001B[38;5;28;01mlambda\u001B[39;00m r: payoff_bond(r,dt)\n\u001B[0;32m--> 157\u001B[0m newtree \u001B[38;5;241m=\u001B[39m \u001B[43mincrementBDTtree\u001B[49m\u001B[43m(\u001B[49m\u001B[43mtree\u001B[49m\u001B[43m,\u001B[49m\u001B[43m \u001B[49m\u001B[43mtheta\u001B[49m\u001B[43m,\u001B[49m\u001B[43m \u001B[49m\u001B[43msigma_new\u001B[49m\u001B[43m)\u001B[49m\n\u001B[1;32m    158\u001B[0m model_price \u001B[38;5;241m=\u001B[39m bintree_pricing(payoff, newtree)\n\u001B[1;32m    159\u001B[0m \u001B[38;5;28;01mreturn\u001B[39;00m model_price\n",
      "File \u001B[0;32m~/Library/Mobile Documents/com~apple~CloudDocs/U Chicago/FI Derivatives/binomial2.py:147\u001B[0m, in \u001B[0;36mincrementBDTtree\u001B[0;34m(ratetree, theta, sigma, dt)\u001B[0m\n\u001B[1;32m    145\u001B[0m ztree \u001B[38;5;241m=\u001B[39m rates_to_BDTstates(ratetree)\n\u001B[1;32m    146\u001B[0m ztree\u001B[38;5;241m.\u001B[39miloc[:,\u001B[38;5;241m-\u001B[39m\u001B[38;5;241m1\u001B[39m] \u001B[38;5;241m=\u001B[39m ztree\u001B[38;5;241m.\u001B[39miloc[:,\u001B[38;5;241m-\u001B[39m\u001B[38;5;241m2\u001B[39m] \u001B[38;5;241m+\u001B[39m theta \u001B[38;5;241m*\u001B[39m dt \u001B[38;5;241m+\u001B[39m sigma \u001B[38;5;241m*\u001B[39m np\u001B[38;5;241m.\u001B[39msqrt(dt)\n\u001B[0;32m--> 147\u001B[0m \u001B[43mztree\u001B[49m\u001B[38;5;241;43m.\u001B[39;49m\u001B[43miloc\u001B[49m\u001B[43m[\u001B[49m\u001B[38;5;241;43m-\u001B[39;49m\u001B[38;5;241;43m1\u001B[39;49m\u001B[43m,\u001B[49m\u001B[38;5;241;43m-\u001B[39;49m\u001B[38;5;241;43m1\u001B[39;49m\u001B[43m]\u001B[49m \u001B[38;5;241m=\u001B[39m ztree\u001B[38;5;241m.\u001B[39miloc[\u001B[38;5;241m-\u001B[39m\u001B[38;5;241m2\u001B[39m,\u001B[38;5;241m-\u001B[39m\u001B[38;5;241m2\u001B[39m] \u001B[38;5;241m+\u001B[39m theta \u001B[38;5;241m*\u001B[39m dt \u001B[38;5;241m-\u001B[39m sigma \u001B[38;5;241m*\u001B[39m np\u001B[38;5;241m.\u001B[39msqrt(dt)\n\u001B[1;32m    149\u001B[0m newtree \u001B[38;5;241m=\u001B[39m BDTstates_to_rates(ztree)\n\u001B[1;32m    150\u001B[0m \u001B[38;5;28;01mreturn\u001B[39;00m newtree\n",
      "File \u001B[0;32m~/Library/Mobile Documents/com~apple~CloudDocs/U Chicago/FINM32500/Code/venv/37500/lib/python3.11/site-packages/pandas/core/indexing.py:849\u001B[0m, in \u001B[0;36m_LocationIndexer.__setitem__\u001B[0;34m(self, key, value)\u001B[0m\n\u001B[1;32m    846\u001B[0m \u001B[38;5;28mself\u001B[39m\u001B[38;5;241m.\u001B[39m_has_valid_setitem_indexer(key)\n\u001B[1;32m    848\u001B[0m iloc \u001B[38;5;241m=\u001B[39m \u001B[38;5;28mself\u001B[39m \u001B[38;5;28;01mif\u001B[39;00m \u001B[38;5;28mself\u001B[39m\u001B[38;5;241m.\u001B[39mname \u001B[38;5;241m==\u001B[39m \u001B[38;5;124m\"\u001B[39m\u001B[38;5;124miloc\u001B[39m\u001B[38;5;124m\"\u001B[39m \u001B[38;5;28;01melse\u001B[39;00m \u001B[38;5;28mself\u001B[39m\u001B[38;5;241m.\u001B[39mobj\u001B[38;5;241m.\u001B[39miloc\n\u001B[0;32m--> 849\u001B[0m \u001B[43miloc\u001B[49m\u001B[38;5;241;43m.\u001B[39;49m\u001B[43m_setitem_with_indexer\u001B[49m\u001B[43m(\u001B[49m\u001B[43mindexer\u001B[49m\u001B[43m,\u001B[49m\u001B[43m \u001B[49m\u001B[43mvalue\u001B[49m\u001B[43m,\u001B[49m\u001B[43m \u001B[49m\u001B[38;5;28;43mself\u001B[39;49m\u001B[38;5;241;43m.\u001B[39;49m\u001B[43mname\u001B[49m\u001B[43m)\u001B[49m\n",
      "File \u001B[0;32m~/Library/Mobile Documents/com~apple~CloudDocs/U Chicago/FINM32500/Code/venv/37500/lib/python3.11/site-packages/pandas/core/indexing.py:1828\u001B[0m, in \u001B[0;36m_iLocIndexer._setitem_with_indexer\u001B[0;34m(self, indexer, value, name)\u001B[0m\n\u001B[1;32m   1825\u001B[0m \u001B[38;5;66;03m# align and set the values\u001B[39;00m\n\u001B[1;32m   1826\u001B[0m \u001B[38;5;28;01mif\u001B[39;00m take_split_path:\n\u001B[1;32m   1827\u001B[0m     \u001B[38;5;66;03m# We have to operate column-wise\u001B[39;00m\n\u001B[0;32m-> 1828\u001B[0m     \u001B[38;5;28;43mself\u001B[39;49m\u001B[38;5;241;43m.\u001B[39;49m\u001B[43m_setitem_with_indexer_split_path\u001B[49m\u001B[43m(\u001B[49m\u001B[43mindexer\u001B[49m\u001B[43m,\u001B[49m\u001B[43m \u001B[49m\u001B[43mvalue\u001B[49m\u001B[43m,\u001B[49m\u001B[43m \u001B[49m\u001B[43mname\u001B[49m\u001B[43m)\u001B[49m\n\u001B[1;32m   1829\u001B[0m \u001B[38;5;28;01melse\u001B[39;00m:\n\u001B[1;32m   1830\u001B[0m     \u001B[38;5;28mself\u001B[39m\u001B[38;5;241m.\u001B[39m_setitem_single_block(indexer, value, name)\n",
      "File \u001B[0;32m~/Library/Mobile Documents/com~apple~CloudDocs/U Chicago/FINM32500/Code/venv/37500/lib/python3.11/site-packages/pandas/core/indexing.py:1894\u001B[0m, in \u001B[0;36m_iLocIndexer._setitem_with_indexer_split_path\u001B[0;34m(self, indexer, value, name)\u001B[0m\n\u001B[1;32m   1889\u001B[0m \u001B[38;5;28;01melif\u001B[39;00m lplane_indexer \u001B[38;5;241m==\u001B[39m \u001B[38;5;241m0\u001B[39m \u001B[38;5;129;01mand\u001B[39;00m \u001B[38;5;28mlen\u001B[39m(value) \u001B[38;5;241m==\u001B[39m \u001B[38;5;28mlen\u001B[39m(\u001B[38;5;28mself\u001B[39m\u001B[38;5;241m.\u001B[39mobj\u001B[38;5;241m.\u001B[39mindex):\n\u001B[1;32m   1890\u001B[0m     \u001B[38;5;66;03m# We get here in one case via .loc with a all-False mask\u001B[39;00m\n\u001B[1;32m   1891\u001B[0m     \u001B[38;5;28;01mpass\u001B[39;00m\n\u001B[1;32m   1893\u001B[0m \u001B[38;5;28;01melif\u001B[39;00m \u001B[38;5;28mself\u001B[39m\u001B[38;5;241m.\u001B[39m_is_scalar_access(indexer) \u001B[38;5;129;01mand\u001B[39;00m is_object_dtype(\n\u001B[0;32m-> 1894\u001B[0m     \u001B[38;5;28;43mself\u001B[39;49m\u001B[38;5;241;43m.\u001B[39;49m\u001B[43mobj\u001B[49m\u001B[38;5;241;43m.\u001B[39;49m\u001B[43mdtypes\u001B[49m\u001B[43m[\u001B[49m\u001B[43milocs\u001B[49m\u001B[43m[\u001B[49m\u001B[38;5;241;43m0\u001B[39;49m\u001B[43m]\u001B[49m\u001B[43m]\u001B[49m\n\u001B[1;32m   1895\u001B[0m ):\n\u001B[1;32m   1896\u001B[0m     \u001B[38;5;66;03m# We are setting nested data, only possible for object dtype data\u001B[39;00m\n\u001B[1;32m   1897\u001B[0m     \u001B[38;5;28mself\u001B[39m\u001B[38;5;241m.\u001B[39m_setitem_single_column(indexer[\u001B[38;5;241m1\u001B[39m], value, pi)\n\u001B[1;32m   1899\u001B[0m \u001B[38;5;28;01melif\u001B[39;00m \u001B[38;5;28mlen\u001B[39m(ilocs) \u001B[38;5;241m==\u001B[39m \u001B[38;5;28mlen\u001B[39m(value):\n\u001B[1;32m   1900\u001B[0m     \u001B[38;5;66;03m# We are setting multiple columns in a single row.\u001B[39;00m\n",
      "File \u001B[0;32m~/Library/Mobile Documents/com~apple~CloudDocs/U Chicago/FINM32500/Code/venv/37500/lib/python3.11/site-packages/pandas/core/series.py:1012\u001B[0m, in \u001B[0;36mSeries.__getitem__\u001B[0;34m(self, key)\u001B[0m\n\u001B[1;32m   1009\u001B[0m     \u001B[38;5;28;01mreturn\u001B[39;00m \u001B[38;5;28mself\u001B[39m\u001B[38;5;241m.\u001B[39m_values[key]\n\u001B[1;32m   1011\u001B[0m \u001B[38;5;28;01melif\u001B[39;00m key_is_scalar:\n\u001B[0;32m-> 1012\u001B[0m     \u001B[38;5;28;01mreturn\u001B[39;00m \u001B[38;5;28;43mself\u001B[39;49m\u001B[38;5;241;43m.\u001B[39;49m\u001B[43m_get_value\u001B[49m\u001B[43m(\u001B[49m\u001B[43mkey\u001B[49m\u001B[43m)\u001B[49m\n\u001B[1;32m   1014\u001B[0m \u001B[38;5;28;01mif\u001B[39;00m is_hashable(key):\n\u001B[1;32m   1015\u001B[0m     \u001B[38;5;66;03m# Otherwise index.get_value will raise InvalidIndexError\u001B[39;00m\n\u001B[1;32m   1016\u001B[0m     \u001B[38;5;28;01mtry\u001B[39;00m:\n\u001B[1;32m   1017\u001B[0m         \u001B[38;5;66;03m# For labels that don't resolve as scalars like tuples and frozensets\u001B[39;00m\n",
      "File \u001B[0;32m~/Library/Mobile Documents/com~apple~CloudDocs/U Chicago/FINM32500/Code/venv/37500/lib/python3.11/site-packages/pandas/core/series.py:1121\u001B[0m, in \u001B[0;36mSeries._get_value\u001B[0;34m(self, label, takeable)\u001B[0m\n\u001B[1;32m   1118\u001B[0m     \u001B[38;5;28;01mreturn\u001B[39;00m \u001B[38;5;28mself\u001B[39m\u001B[38;5;241m.\u001B[39m_values[label]\n\u001B[1;32m   1120\u001B[0m \u001B[38;5;66;03m# Similar to Index.get_value, but we do not fall back to positional\u001B[39;00m\n\u001B[0;32m-> 1121\u001B[0m loc \u001B[38;5;241m=\u001B[39m \u001B[38;5;28;43mself\u001B[39;49m\u001B[38;5;241;43m.\u001B[39;49m\u001B[43mindex\u001B[49m\u001B[38;5;241;43m.\u001B[39;49m\u001B[43mget_loc\u001B[49m\u001B[43m(\u001B[49m\u001B[43mlabel\u001B[49m\u001B[43m)\u001B[49m\n\u001B[1;32m   1123\u001B[0m \u001B[38;5;28;01mif\u001B[39;00m is_integer(loc):\n\u001B[1;32m   1124\u001B[0m     \u001B[38;5;28;01mreturn\u001B[39;00m \u001B[38;5;28mself\u001B[39m\u001B[38;5;241m.\u001B[39m_values[loc]\n",
      "File \u001B[0;32m~/Library/Mobile Documents/com~apple~CloudDocs/U Chicago/FINM32500/Code/venv/37500/lib/python3.11/site-packages/pandas/core/indexes/base.py:3654\u001B[0m, in \u001B[0;36mIndex.get_loc\u001B[0;34m(self, key)\u001B[0m\n\u001B[1;32m   3652\u001B[0m     \u001B[38;5;28;01mreturn\u001B[39;00m \u001B[38;5;28mself\u001B[39m\u001B[38;5;241m.\u001B[39m_engine\u001B[38;5;241m.\u001B[39mget_loc(casted_key)\n\u001B[1;32m   3653\u001B[0m \u001B[38;5;28;01mexcept\u001B[39;00m \u001B[38;5;167;01mKeyError\u001B[39;00m \u001B[38;5;28;01mas\u001B[39;00m err:\n\u001B[0;32m-> 3654\u001B[0m     \u001B[38;5;28;01mraise\u001B[39;00m \u001B[38;5;167;01mKeyError\u001B[39;00m(key) \u001B[38;5;28;01mfrom\u001B[39;00m \u001B[38;5;21;01merr\u001B[39;00m\n\u001B[1;32m   3655\u001B[0m \u001B[38;5;28;01mexcept\u001B[39;00m \u001B[38;5;167;01mTypeError\u001B[39;00m:\n\u001B[1;32m   3656\u001B[0m     \u001B[38;5;66;03m# If we have a listlike key, _check_indexing_error will raise\u001B[39;00m\n\u001B[1;32m   3657\u001B[0m     \u001B[38;5;66;03m#  InvalidIndexError. Otherwise we fall through and re-raise\u001B[39;00m\n\u001B[1;32m   3658\u001B[0m     \u001B[38;5;66;03m#  the TypeError.\u001B[39;00m\n\u001B[1;32m   3659\u001B[0m     \u001B[38;5;28mself\u001B[39m\u001B[38;5;241m.\u001B[39m_check_indexing_error(key)\n",
      "\u001B[0;31mKeyError\u001B[0m: -1"
     ]
    }
   ],
   "source": [
    "quotes = curves['discounts']*100\n",
    "sigmas = capcurves['fwd vols']\n",
    "sigmas.iloc[0] = sigmas.iloc[1]\n",
    "\n",
    "\n",
    "estimate_theta(sigmas,quotes)\n",
    "#binomial.format_bintree(theta.to_frame().T, style='{:.2%}')\n"
   ],
   "metadata": {
    "collapsed": false
   }
  },
  {
   "cell_type": "markdown",
   "id": "ec88e17d",
   "metadata": {},
   "source": [
    "## 2.2 Price the Freddie Mac Bond\n",
    "\n",
    "The U.S. has many forms of *agency* debt in addition to *Treasury* debt. The largest of these *agency* issuers are the housing entities commonly referred to as Freddie Mac and Fannie Mae. While technically distinct from the U.S. Treasury, they are widely seen as having the full credit and backing of the Treasury--particularly after the bailouts of 2008.\n",
    "\n",
    "Thus, we will examine this agency debt as (credit) risk-free, just like Treasury debt.\n",
    "\n",
    "Consider the Freddie Mac bond with Bloomberg ID `BX8543742`.\n",
    "* Issued 2022-07-26\n",
    "* Matures 2030-07-26\n",
    "* Semiannual coupons\n",
    "* Coupon rate 4.375%\n",
    "* Issued 25mm.\n",
    "\n",
    "Price this bond using the model calibrated from 2023-03-31 data.\n",
    "* We will model this bond as maturing 2030-06-30 (a few weeks early) so that it has maturity of 7.25 years, modeled at quarterly intervals.\n",
    "* Note that the coupons are paid in the final period and every other quarter prior (semiannually.) Thus, it pays a coupon in after just one quarter from the current time.\n",
    "\n",
    "The market quote as of 2023-03-31 is \\$97.478.\n",
    "\n",
    "Use the BDT model to price the bond. How close is it to the market quote?"
   ]
  },
  {
   "cell_type": "markdown",
   "id": "d45e8302",
   "metadata": {},
   "source": [
    "## 2.3 Callable Bond\n",
    "\n",
    "One important difference between Treasury debt and this bond is that this bond is **callable**\n",
    "* Furthermore, this bond is callable with **American** style--it can be called any quarter.\n",
    "* Strike is 100.\n",
    "* Note that the holder of the bond is short this call option; (the issuer has the optionality.) \n",
    "\n",
    "**Use the BDT model to price this implicit American call option and the resulting callable bond.**\n",
    "* Note that the price of the callable bond is your answer to the previous question minus this American option.\n",
    "* How close is the modeled price to the market quoted price now? \n",
    "\n",
    "#### Caution on coupons\n",
    "* Be careful in modeling the underlying for the American option.\n",
    "* In pricing the bond in the previous problem, you should have considered the coupon values.\n",
    "* But in pricing the option, you must account for the fact that the price drops by the coupon value at the node the coupon is paid. (That is, the tree shows the *ex-coupon* price.)\n",
    "* Consider building the bond valuation tree for the problem above which incorporates the coupons, similar to the cashflow trees we used in W.2. for caps and swaps.\n",
    "* But then adjust this bond value tree by subtracting the current period's coupons in order to build the underlying tree."
   ]
  },
  {
   "cell_type": "markdown",
   "id": "e76b7b85",
   "metadata": {},
   "source": [
    "## 2.4 Exercising the Option\n",
    "\n",
    "Show a heatmap of the nodes in which the American bond is exercised.\n",
    "\n",
    "Is it exercised any time it is in-the-money? What stands out about this relationship?"
   ]
  },
  {
   "cell_type": "markdown",
   "id": "ebd59f26",
   "metadata": {},
   "source": [
    "***"
   ]
  },
  {
   "cell_type": "markdown",
   "id": "6932fef2",
   "metadata": {},
   "source": [
    "# 3. Option Adjusted Spread\n",
    "\n",
    "*This section is optional. No need to submit it, but we will likely discuss it in class.*"
   ]
  },
  {
   "cell_type": "markdown",
   "id": "4fc2f40d",
   "metadata": {},
   "source": [
    "## 3.1 Calculate the OAS\n",
    "\n",
    "The **option adjusted spread** is the spread one would need to add to the spot curve, (the discounts), to get the modeled price to match the market price of the derivative. That is, how many bps would you need to add or subtract to all the spot rates in order to perfectly price this callable bond? \n",
    "\n",
    "* Ignore the effect of the parallel shift in rates on the forward vols. (No need to recalculate section 1.) \n",
    "\n",
    "* Use the parallel shifts to recalibrate the $\\theta$ parameters in the BDT tree. \n",
    "\n",
    "Report the OAS needed to add (or subtract) in a parallel shift in spot to correctly model the callable bond.\n",
    "\n",
    "#### Note:\n",
    "This **OAS** is a common way to quote whether a derivative seems to be undervalued (positive OAS) or overvalued (negative OAS.) Of course, the OAS is dependent on our modeling choices, so it could also indicate the model is bad.\n",
    "\n",
    "## 3.2 Convexity\n",
    "\n",
    "Continue with parallel shifts of the (present, market quoted) yield curve. \n",
    "* Plot the relationship between the value of the callable bond as the spot curve shifts higher and lower.\n",
    "* Do you see convexity in this relationship?"
   ]
  }
 ],
 "metadata": {
  "kernelspec": {
   "display_name": "Python 3 (ipykernel)",
   "language": "python",
   "name": "python3"
  },
  "language_info": {
   "codemirror_mode": {
    "name": "ipython",
    "version": 3
   },
   "file_extension": ".py",
   "mimetype": "text/x-python",
   "name": "python",
   "nbconvert_exporter": "python",
   "pygments_lexer": "ipython3",
   "version": "3.9.6"
  }
 },
 "nbformat": 4,
 "nbformat_minor": 5
}
